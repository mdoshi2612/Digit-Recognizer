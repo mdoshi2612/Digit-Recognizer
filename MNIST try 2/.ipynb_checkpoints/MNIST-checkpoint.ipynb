{
 "cells": [
  {
   "cell_type": "code",
   "execution_count": 1,
   "metadata": {
    "id": "KZK7ts-89wHL"
   },
   "outputs": [],
   "source": [
    "import torchvision\n",
    "import torch\n",
    "import torch.nn as nn\n",
    "import torch.optim as optim\n",
    "from torch.utils.data import DataLoader,TensorDataset\n",
    "import torch.optim as optim\n",
    "import torch.nn.functional as F\n",
    "import random\n",
    "import numpy as np\n",
    "import matplotlib.pyplot as plt\n",
    "import pandas as pd\n",
    "from torch.autograd import Variable"
   ]
  },
  {
   "cell_type": "code",
   "execution_count": 2,
   "metadata": {
    "colab": {
     "base_uri": "https://localhost:8080/",
     "height": 387
    },
    "id": "qV68mSKE_Z3O",
    "outputId": "712d5d21-72e7-4c36-cd12-70302ceba5cb"
   },
   "outputs": [
    {
     "name": "stdout",
     "output_type": "stream",
     "text": [
      "       label  pixel0  pixel1  pixel2  pixel3  pixel4  pixel5  pixel6  pixel7  \\\n",
      "0        1.0     0.0     0.0     0.0     0.0     0.0     0.0     0.0     0.0   \n",
      "1        0.0     0.0     0.0     0.0     0.0     0.0     0.0     0.0     0.0   \n",
      "2        1.0     0.0     0.0     0.0     0.0     0.0     0.0     0.0     0.0   \n",
      "3        4.0     0.0     0.0     0.0     0.0     0.0     0.0     0.0     0.0   \n",
      "4        0.0     0.0     0.0     0.0     0.0     0.0     0.0     0.0     0.0   \n",
      "...      ...     ...     ...     ...     ...     ...     ...     ...     ...   \n",
      "41995    0.0     0.0     0.0     0.0     0.0     0.0     0.0     0.0     0.0   \n",
      "41996    1.0     0.0     0.0     0.0     0.0     0.0     0.0     0.0     0.0   \n",
      "41997    7.0     0.0     0.0     0.0     0.0     0.0     0.0     0.0     0.0   \n",
      "41998    6.0     0.0     0.0     0.0     0.0     0.0     0.0     0.0     0.0   \n",
      "41999    9.0     0.0     0.0     0.0     0.0     0.0     0.0     0.0     0.0   \n",
      "\n",
      "       pixel8  ...  pixel774  pixel775  pixel776  pixel777  pixel778  \\\n",
      "0         0.0  ...       0.0       0.0       0.0       0.0       0.0   \n",
      "1         0.0  ...       0.0       0.0       0.0       0.0       0.0   \n",
      "2         0.0  ...       0.0       0.0       0.0       0.0       0.0   \n",
      "3         0.0  ...       0.0       0.0       0.0       0.0       0.0   \n",
      "4         0.0  ...       0.0       0.0       0.0       0.0       0.0   \n",
      "...       ...  ...       ...       ...       ...       ...       ...   \n",
      "41995     0.0  ...       0.0       0.0       0.0       0.0       0.0   \n",
      "41996     0.0  ...       0.0       0.0       0.0       0.0       0.0   \n",
      "41997     0.0  ...       0.0       0.0       0.0       0.0       0.0   \n",
      "41998     0.0  ...       0.0       0.0       0.0       0.0       0.0   \n",
      "41999     0.0  ...       0.0       0.0       0.0       0.0       0.0   \n",
      "\n",
      "       pixel779  pixel780  pixel781  pixel782  pixel783  \n",
      "0           0.0       0.0       0.0       0.0       0.0  \n",
      "1           0.0       0.0       0.0       0.0       0.0  \n",
      "2           0.0       0.0       0.0       0.0       0.0  \n",
      "3           0.0       0.0       0.0       0.0       0.0  \n",
      "4           0.0       0.0       0.0       0.0       0.0  \n",
      "...         ...       ...       ...       ...       ...  \n",
      "41995       0.0       0.0       0.0       0.0       0.0  \n",
      "41996       0.0       0.0       0.0       0.0       0.0  \n",
      "41997       0.0       0.0       0.0       0.0       0.0  \n",
      "41998       0.0       0.0       0.0       0.0       0.0  \n",
      "41999       0.0       0.0       0.0       0.0       0.0  \n",
      "\n",
      "[42000 rows x 785 columns]\n"
     ]
    }
   ],
   "source": [
    "train_data = pd.read_csv('train.csv',dtype = np.float32)\n",
    "print(train_data)"
   ]
  },
  {
   "cell_type": "code",
   "execution_count": 3,
   "metadata": {
    "id": "-rkk6q_WAQoT"
   },
   "outputs": [],
   "source": [
    "labels = train_data.pop('label').values\n",
    "train_data = train_data.values/255"
   ]
  },
  {
   "cell_type": "code",
   "execution_count": 4,
   "metadata": {
    "id": "8bRVWfWkEmvA"
   },
   "outputs": [],
   "source": [
    "X_train = torch.from_numpy(train_data)\n",
    "Y_train = torch.from_numpy(labels)"
   ]
  },
  {
   "cell_type": "code",
   "execution_count": 5,
   "metadata": {
    "colab": {
     "base_uri": "https://localhost:8080/",
     "height": 282
    },
    "id": "76kSbImhF597",
    "outputId": "174d16a9-95fa-4d61-d7e7-d1377e74b064"
   },
   "outputs": [
    {
     "data": {
      "text/plain": [
       "<matplotlib.image.AxesImage at 0x20608730460>"
      ]
     },
     "execution_count": 5,
     "metadata": {},
     "output_type": "execute_result"
    },
    {
     "data": {
      "image/png": "[encoded data removed]",
      "text/plain": [
       "<Figure size 432x288 with 1 Axes>"
      ]
     },
     "metadata": {
      "needs_background": "light"
     },
     "output_type": "display_data"
    }
   ],
   "source": [
    "idx = random.randint(0,42000)\n",
    "plt.imshow(X_train[idx].reshape(28,28),cmap='gray')"
   ]
  },
  {
   "cell_type": "code",
   "execution_count": 6,
   "metadata": {
    "id": "sVUkMkEMIQxD"
   },
   "outputs": [],
   "source": [
    "class Net(nn.Module):\n",
    "  def __init__(self):\n",
    "    super().__init__()\n",
    "    self.conv1 = nn.Conv2d(1, 6, 5)\n",
    "    self.pool = nn.MaxPool2d(2)\n",
    "    self.conv2 = nn.Conv2d(6, 16, 3)\n",
    "    self.fc1 = nn.Linear(16 * 5 * 5, 120)\n",
    "    self.fc2 = nn.Linear(120, 84)\n",
    "    self.fc3 = nn.Linear(84, 10)\n",
    "\n",
    "  def forward(self, x):\n",
    "    x = self.pool(F.relu(self.conv1(x)))\n",
    "    x = self.pool(F.relu(self.conv2(x)))\n",
    "    x = x.reshape(x.size(0), -1)\n",
    "    x = F.relu(self.fc1(x))\n",
    "    x = F.relu(self.fc2(x))\n",
    "    x = self.fc3(x)\n",
    "    return x\n",
    "\n",
    "model = Net()"
   ]
  },
  {
   "cell_type": "code",
   "execution_count": 7,
   "metadata": {
    "id": "F6C101yAPpjg"
   },
   "outputs": [],
   "source": [
    "def accuracy(outputs, labels):\n",
    "    probs = F.softmax(outputs, dim=1)\n",
    "    max_probs, preds = torch.max(probs, dim=1)\n",
    "    return torch.tensor(torch.sum(preds == labels).item()/len(preds))"
   ]
  },
  {
   "cell_type": "code",
   "execution_count": 8,
   "metadata": {
    "id": "yrMIUjU-M3fV"
   },
   "outputs": [],
   "source": [
    "loss_function = nn.CrossEntropyLoss()\n",
    "optimizer = optim.Adam(model.parameters())"
   ]
  },
  {
   "cell_type": "code",
   "execution_count": null,
   "metadata": {
    "colab": {
     "base_uri": "https://localhost:8080/"
    },
    "id": "qVjxuJXaNfvK",
    "outputId": "0918b91b-5800-4673-8452-7c42fdf37402"
   },
   "outputs": [
    {
     "name": "stdout",
     "output_type": "stream",
     "text": [
      "[1,   500] loss: 1.060\n",
      "[1,  1000] loss: 0.298\n",
      "[1,  1500] loss: 0.234\n",
      "[1,  2000] loss: 0.199\n",
      "[1,  2500] loss: 0.152\n",
      "[1,  3000] loss: 0.140\n",
      "[1,  3500] loss: 0.165\n",
      "[1,  4000] loss: 0.118\n",
      "[1,  4500] loss: 0.117\n",
      "[1,  5000] loss: 0.115\n",
      "[1,  5500] loss: 0.106\n",
      "[1,  6000] loss: 0.109\n",
      "[1,  6500] loss: 0.107\n",
      "[1,  7000] loss: 0.095\n",
      "[1,  7500] loss: 0.102\n",
      "[1,  8000] loss: 0.082\n",
      "[1,  8500] loss: 0.087\n",
      "[1,  9000] loss: 0.072\n",
      "[1,  9500] loss: 0.087\n",
      "[1, 10000] loss: 0.075\n",
      "[1, 10500] loss: 0.090\n",
      "[2,   500] loss: 0.076\n",
      "[2,  1000] loss: 0.089\n",
      "[2,  1500] loss: 0.083\n",
      "[2,  2000] loss: 0.084\n",
      "[2,  2500] loss: 0.057\n",
      "[2,  3000] loss: 0.072\n",
      "[2,  3500] loss: 0.085\n",
      "[2,  4000] loss: 0.068\n",
      "[2,  4500] loss: 0.077\n",
      "[2,  5000] loss: 0.065\n",
      "[2,  5500] loss: 0.059\n",
      "[2,  6000] loss: 0.053\n",
      "[2,  6500] loss: 0.077\n",
      "[2,  7000] loss: 0.041\n",
      "[2,  7500] loss: 0.075\n",
      "[2,  8000] loss: 0.052\n",
      "[2,  8500] loss: 0.046\n",
      "[2,  9000] loss: 0.054\n",
      "[2,  9500] loss: 0.066\n",
      "[2, 10000] loss: 0.046\n",
      "[2, 10500] loss: 0.059\n",
      "[3,   500] loss: 0.046\n",
      "[3,  1000] loss: 0.051\n",
      "[3,  1500] loss: 0.057\n",
      "[3,  2000] loss: 0.061\n",
      "[3,  2500] loss: 0.045\n",
      "[3,  3000] loss: 0.057\n",
      "[3,  3500] loss: 0.074\n",
      "[3,  4000] loss: 0.043\n",
      "[3,  4500] loss: 0.042\n",
      "[3,  5000] loss: 0.053\n",
      "[3,  5500] loss: 0.031\n",
      "[3,  6000] loss: 0.047\n",
      "[3,  6500] loss: 0.057\n",
      "[3,  7000] loss: 0.041\n",
      "[3,  7500] loss: 0.054\n",
      "[3,  8000] loss: 0.048\n",
      "[3,  8500] loss: 0.031\n",
      "[3,  9000] loss: 0.033\n",
      "[3,  9500] loss: 0.061\n",
      "[3, 10000] loss: 0.026\n",
      "[3, 10500] loss: 0.050\n",
      "[4,   500] loss: 0.044\n",
      "[4,  1000] loss: 0.036\n",
      "[4,  1500] loss: 0.048\n",
      "[4,  2000] loss: 0.053\n",
      "[4,  2500] loss: 0.021\n",
      "[4,  3000] loss: 0.044\n",
      "[4,  3500] loss: 0.052\n"
     ]
    }
   ],
   "source": [
    "batch_size = 4\n",
    "train = TensorDataset(X_train,Y_train)\n",
    "trainloader = DataLoader(train,batch_size=batch_size,shuffle=False)\n",
    "for epoch in range(5):\n",
    "  running_loss = 0\n",
    "  for i,data in enumerate(trainloader):\n",
    "    images,labels = data\n",
    "    train = Variable(images.view(batch_size,1,28,28))\n",
    "    labels = Variable(labels)\n",
    "    optimizer.zero_grad()\n",
    "    outputs = model(train)\n",
    "    loss = loss_function(outputs, labels.type(torch.LongTensor))\n",
    "    loss.backward()\n",
    "    optimizer.step()\n",
    "    running_loss += loss.item()\n",
    "    if i % 500 == 499:    # print every 500 mini-batches\n",
    "      print('[%d, %5d] loss: %.3f' % (epoch + 1, i + 1, running_loss / 500))\n",
    "      running_loss = 0.0\n"
   ]
  },
  {
   "cell_type": "code",
   "execution_count": null,
   "metadata": {
    "id": "ESSS8AdpQpxu"
   },
   "outputs": [],
   "source": []
  }
 ],
 "metadata": {
  "colab": {
   "collapsed_sections": [],
   "name": "MNIST.ipynb",
   "provenance": []
  },
  "kernelspec": {
   "display_name": "Python 3",
   "language": "python",
   "name": "python3"
  },
  "language_info": {
   "codemirror_mode": {
    "name": "ipython",
    "version": 3
   },
   "file_extension": ".py",
   "mimetype": "text/x-python",
   "name": "python",
   "nbconvert_exporter": "python",
   "pygments_lexer": "ipython3",
   "version": "3.8.5"
  }
 },
 "nbformat": 4,
 "nbformat_minor": 1
}
