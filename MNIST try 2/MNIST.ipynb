{
 "cells": [
  {
   "cell_type": "code",
   "execution_count": 1,
   "metadata": {
    "id": "KZK7ts-89wHL"
   },
   "outputs": [],
   "source": [
    "import torchvision\n",
    "import torch\n",
    "import torch.nn as nn\n",
    "import torch.optim as optim\n",
    "from torch.utils.data import DataLoader,TensorDataset\n",
    "import torch.optim as optim\n",
    "import torch.nn.functional as F\n",
    "import random\n",
    "import numpy as np\n",
    "import matplotlib.pyplot as plt\n",
    "import pandas as pd\n",
    "from torch.autograd import Variable\n",
    "import sklearn\n",
    "from sklearn.model_selection import train_test_split"
   ]
  },
  {
   "cell_type": "code",
   "execution_count": 2,
   "metadata": {
    "colab": {
     "base_uri": "https://localhost:8080/",
     "height": 387
    },
    "id": "qV68mSKE_Z3O",
    "outputId": "712d5d21-72e7-4c36-cd12-70302ceba5cb"
   },
   "outputs": [
    {
     "name": "stdout",
     "output_type": "stream",
     "text": [
      "       label  pixel0  pixel1  pixel2  pixel3  pixel4  pixel5  pixel6  pixel7  \\\n",
      "0        1.0     0.0     0.0     0.0     0.0     0.0     0.0     0.0     0.0   \n",
      "1        0.0     0.0     0.0     0.0     0.0     0.0     0.0     0.0     0.0   \n",
      "2        1.0     0.0     0.0     0.0     0.0     0.0     0.0     0.0     0.0   \n",
      "3        4.0     0.0     0.0     0.0     0.0     0.0     0.0     0.0     0.0   \n",
      "4        0.0     0.0     0.0     0.0     0.0     0.0     0.0     0.0     0.0   \n",
      "...      ...     ...     ...     ...     ...     ...     ...     ...     ...   \n",
      "41995    0.0     0.0     0.0     0.0     0.0     0.0     0.0     0.0     0.0   \n",
      "41996    1.0     0.0     0.0     0.0     0.0     0.0     0.0     0.0     0.0   \n",
      "41997    7.0     0.0     0.0     0.0     0.0     0.0     0.0     0.0     0.0   \n",
      "41998    6.0     0.0     0.0     0.0     0.0     0.0     0.0     0.0     0.0   \n",
      "41999    9.0     0.0     0.0     0.0     0.0     0.0     0.0     0.0     0.0   \n",
      "\n",
      "       pixel8  ...  pixel774  pixel775  pixel776  pixel777  pixel778  \\\n",
      "0         0.0  ...       0.0       0.0       0.0       0.0       0.0   \n",
      "1         0.0  ...       0.0       0.0       0.0       0.0       0.0   \n",
      "2         0.0  ...       0.0       0.0       0.0       0.0       0.0   \n",
      "3         0.0  ...       0.0       0.0       0.0       0.0       0.0   \n",
      "4         0.0  ...       0.0       0.0       0.0       0.0       0.0   \n",
      "...       ...  ...       ...       ...       ...       ...       ...   \n",
      "41995     0.0  ...       0.0       0.0       0.0       0.0       0.0   \n",
      "41996     0.0  ...       0.0       0.0       0.0       0.0       0.0   \n",
      "41997     0.0  ...       0.0       0.0       0.0       0.0       0.0   \n",
      "41998     0.0  ...       0.0       0.0       0.0       0.0       0.0   \n",
      "41999     0.0  ...       0.0       0.0       0.0       0.0       0.0   \n",
      "\n",
      "       pixel779  pixel780  pixel781  pixel782  pixel783  \n",
      "0           0.0       0.0       0.0       0.0       0.0  \n",
      "1           0.0       0.0       0.0       0.0       0.0  \n",
      "2           0.0       0.0       0.0       0.0       0.0  \n",
      "3           0.0       0.0       0.0       0.0       0.0  \n",
      "4           0.0       0.0       0.0       0.0       0.0  \n",
      "...         ...       ...       ...       ...       ...  \n",
      "41995       0.0       0.0       0.0       0.0       0.0  \n",
      "41996       0.0       0.0       0.0       0.0       0.0  \n",
      "41997       0.0       0.0       0.0       0.0       0.0  \n",
      "41998       0.0       0.0       0.0       0.0       0.0  \n",
      "41999       0.0       0.0       0.0       0.0       0.0  \n",
      "\n",
      "[42000 rows x 785 columns]\n"
     ]
    }
   ],
   "source": [
    "train_data = pd.read_csv('train.csv',dtype = np.float32)\n",
    "print(train_data)"
   ]
  },
  {
   "cell_type": "code",
   "execution_count": 3,
   "metadata": {
    "id": "-rkk6q_WAQoT"
   },
   "outputs": [],
   "source": [
    "labels = train_data.pop('label').values\n",
    "train_data = train_data.values/255"
   ]
  },
  {
   "cell_type": "code",
   "execution_count": 5,
   "metadata": {},
   "outputs": [],
   "source": [
    "train_data_features, test_data_features, train_labels, test_labels = train_test_split(train_data,labels,test_size = 2000)"
   ]
  },
  {
   "cell_type": "code",
   "execution_count": 7,
   "metadata": {
    "id": "8bRVWfWkEmvA"
   },
   "outputs": [
    {
     "name": "stdout",
     "output_type": "stream",
     "text": [
      "torch.Size([40000, 784]) torch.Size([40000]) torch.Size([2000, 784]) torch.Size([2000])\n"
     ]
    }
   ],
   "source": [
    "X_train = torch.from_numpy(train_data_features)\n",
    "Y_train = torch.from_numpy(train_labels)\n",
    "X_test = torch.from_numpy(test_data_features)\n",
    "Y_test = torch.from_numpy(test_labels)\n",
    "print(X_train.shape,Y_train.shape,X_test.shape,Y_test.shape)"
   ]
  },
  {
   "cell_type": "code",
   "execution_count": 8,
   "metadata": {
    "colab": {
     "base_uri": "https://localhost:8080/",
     "height": 282
    },
    "id": "76kSbImhF597",
    "outputId": "174d16a9-95fa-4d61-d7e7-d1377e74b064"
   },
   "outputs": [
    {
     "data": {
      "text/plain": [
       "<matplotlib.image.AxesImage at 0x246fc62c700>"
      ]
     },
     "execution_count": 8,
     "metadata": {},
     "output_type": "execute_result"
    },
    {
     "data": {
      "image/png": "[encoded data removed]",
      "text/plain": [
       "<Figure size 432x288 with 1 Axes>"
      ]
     },
     "metadata": {
      "needs_background": "light"
     },
     "output_type": "display_data"
    }
   ],
   "source": [
    "idx = random.randint(0,40000)\n",
    "plt.imshow(X_train[idx].reshape(28,28),cmap='gray')"
   ]
  },
  {
   "cell_type": "code",
   "execution_count": 9,
   "metadata": {
    "id": "sVUkMkEMIQxD"
   },
   "outputs": [],
   "source": [
    "class Net(nn.Module):\n",
    "  def __init__(self):\n",
    "    super().__init__()\n",
    "    self.conv1 = nn.Conv2d(1, 6, 5)\n",
    "    self.pool = nn.MaxPool2d(2)\n",
    "    self.conv2 = nn.Conv2d(6, 16, 3)\n",
    "    self.fc1 = nn.Linear(16 * 5 * 5, 120)\n",
    "    self.fc2 = nn.Linear(120, 84)\n",
    "    self.fc3 = nn.Linear(84, 10)\n",
    "\n",
    "  def forward(self, x):\n",
    "    x = self.pool(F.relu(self.conv1(x)))\n",
    "    x = self.pool(F.relu(self.conv2(x)))\n",
    "    x = x.reshape(x.size(0), -1)\n",
    "    x = F.relu(self.fc1(x))\n",
    "    x = F.relu(self.fc2(x))\n",
    "    x = self.fc3(x)\n",
    "    return x\n",
    "\n",
    "model = Net()"
   ]
  },
  {
   "cell_type": "code",
   "execution_count": 20,
   "metadata": {
    "id": "F6C101yAPpjg"
   },
   "outputs": [],
   "source": [
    "def accuracy(outputs, labels):\n",
    "    probs = F.softmax(outputs, dim=1)\n",
    "    max_probs, preds = torch.max(probs, dim=1)\n",
    "    return (torch.sum(preds == labels).item()/len(preds))"
   ]
  },
  {
   "cell_type": "code",
   "execution_count": 21,
   "metadata": {
    "id": "yrMIUjU-M3fV"
   },
   "outputs": [],
   "source": [
    "loss_function = nn.CrossEntropyLoss()\n",
    "optimizer = optim.Adam(model.parameters())"
   ]
  },
  {
   "cell_type": "code",
   "execution_count": 26,
   "metadata": {
    "colab": {
     "base_uri": "https://localhost:8080/"
    },
    "id": "qVjxuJXaNfvK",
    "outputId": "0918b91b-5800-4673-8452-7c42fdf37402"
   },
   "outputs": [
    {
     "name": "stdout",
     "output_type": "stream",
     "text": [
      "Epoch 1: Accuracy = 0.985\n",
      "Epoch 2: Accuracy = 0.986\n",
      "Epoch 3: Accuracy = 0.975\n",
      "Epoch 4: Accuracy = 0.9875\n",
      "Epoch 5: Accuracy = 0.9875\n"
     ]
    }
   ],
   "source": [
    "batch_size = 4\n",
    "train = TensorDataset(X_train,Y_train)\n",
    "trainloader = DataLoader(train,batch_size=batch_size,shuffle=False)\n",
    "for epoch in range(5):\n",
    "    for i,data in enumerate(trainloader):\n",
    "        images,labels = data\n",
    "        train = Variable(images.view(batch_size,1,28,28))\n",
    "        labels = Variable(labels)\n",
    "        optimizer.zero_grad()\n",
    "        outputs = model(train)\n",
    "        loss = loss_function(outputs, labels.type(torch.LongTensor))\n",
    "        loss.backward()\n",
    "        optimizer.step()\n",
    "        \n",
    "    with torch.no_grad():\n",
    "        X_test = X_test.view(2000,1,28,28)\n",
    "        test_output = model(X_test)\n",
    "        test_loss = loss_function(test_output,Y_test.type(torch.LongTensor)) \n",
    "        print(f\"Epoch {epoch+1}: Accuracy = {accuracy(test_output, Y_test.type(torch.LongTensor))}\")"
   ]
  },
  {
   "cell_type": "code",
   "execution_count": 27,
   "metadata": {},
   "outputs": [],
   "source": [
    "df = pd.read_csv('test.csv')\n",
    "test_set = df.values/255\n",
    "test_set = test_set.astype(np.float32)\n",
    "x = torch.from_numpy(test_set).view(-1,1,28,28)\n",
    "predictions = model(x)\n",
    "probs = F.softmax(predictions, dim=1)\n",
    "max_probs, preds = torch.max(probs, dim=1)\n",
    "submission = pd.DataFrame({\"ImageId\": list(range(1, len(preds)+1)),\n",
    "                          \"Label\": preds})\n",
    "submission.to_csv(\"sample_submission.csv\", index = False, header = True)"
   ]
  },
  {
   "cell_type": "code",
   "execution_count": null,
   "metadata": {},
   "outputs": [],
   "source": []
  }
 ],
 "metadata": {
  "colab": {
   "collapsed_sections": [],
   "name": "MNIST.ipynb",
   "provenance": []
  },
  "kernelspec": {
   "display_name": "Python 3",
   "language": "python",
   "name": "python3"
  },
  "language_info": {
   "codemirror_mode": {
    "name": "ipython",
    "version": 3
   },
   "file_extension": ".py",
   "mimetype": "text/x-python",
   "name": "python",
   "nbconvert_exporter": "python",
   "pygments_lexer": "ipython3",
   "version": "3.8.5"
  }
 },
 "nbformat": 4,
 "nbformat_minor": 1
}
