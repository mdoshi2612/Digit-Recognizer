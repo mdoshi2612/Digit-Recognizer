{
 "cells": [
  {
   "cell_type": "code",
<<<<<<< HEAD
   "execution_count": 1,
=======
   "execution_count": 8,
>>>>>>> 6a37622d576c346dee34909fdec92db68361b4a0
   "metadata": {},
   "outputs": [],
   "source": [
    "import torch\n",
    "import torchvision\n",
    "import torchvision.transforms as transforms\n",
    "from torch.utils.data import DataLoader\n",
    "import numpy as np\n"
   ]
  },
  {
   "cell_type": "code",
<<<<<<< HEAD
   "execution_count": 2,
=======
   "execution_count": 9,
>>>>>>> 6a37622d576c346dee34909fdec92db68361b4a0
   "metadata": {},
   "outputs": [
    {
     "name": "stdout",
     "output_type": "stream",
     "text": [
      "Using device: cuda\n"
     ]
    }
   ],
   "source": [
    "device = \"cuda\" if torch.cuda.is_available() else \"cpu\"\n",
    "print(f'Using device: {device}')"
   ]
  },
  {
   "cell_type": "code",
<<<<<<< HEAD
   "execution_count": 3,
=======
   "execution_count": 11,
>>>>>>> 6a37622d576c346dee34909fdec92db68361b4a0
   "metadata": {},
   "outputs": [],
   "source": [
    "batch_size = 4\n",
    "\n",
    "transform = transforms.Compose([transforms.ToTensor(),transforms.Normalize((0.5),(0.5))])\n",
    "\n",
    "trainset = torchvision.datasets.MNIST(root='./data', train = True, download = True, transform = transform)\n",
    "testset = torchvision.datasets.MNIST(root='./data', train = False, download = True, transform = transform)\n",
    "trainloader = DataLoader(trainset,batch_size = batch_size,shuffle=True)\n",
    "testloader = DataLoader(testset,batch_size=batch_size,shuffle=False)"
   ]
  },
  {
   "cell_type": "code",
<<<<<<< HEAD
   "execution_count": 4,
=======
   "execution_count": 12,
>>>>>>> 6a37622d576c346dee34909fdec92db68361b4a0
   "metadata": {},
   "outputs": [],
   "source": [
    "import torch.nn as nn\n",
    "import torch.nn.functional as F\n",
    "\n",
    "class LeNet(nn.Module):\n",
    "    def __init__(self):\n",
    "        super().__init__()\n",
    "        self.conv1=nn.Conv2d(1,6,5)  \n",
    "        self.pool=nn.MaxPool2d(2,2)\n",
    "        self.conv2=nn.Conv2d(6,16,3)\n",
    "        self.fc1=nn.Linear(16*5*5,120)\n",
    "        self.fc2=nn.Linear(120,84)\n",
    "        self.fc3=nn.Linear(84,10)\n",
    "        self.dropout=nn.Dropout2d(0.25)\n",
    "        \n",
    "    def forward(self,x):\n",
    "        x=self.pool(F.relu(self.conv1(x)))\n",
    "        x=self.pool(F.relu(self.conv2(x)))\n",
    "        x=torch.flatten(x,1)\n",
    "        x=F.relu(self.fc1(x))\n",
    "        x=F.relu(self.fc2(x))\n",
    "        return x\n",
    "    \n",
    "model=LeNet().to(device)"
   ]
  },
  {
   "cell_type": "code",
<<<<<<< HEAD
   "execution_count": 5,
=======
   "execution_count": 13,
>>>>>>> 6a37622d576c346dee34909fdec92db68361b4a0
   "metadata": {},
   "outputs": [],
   "source": [
    "import torch.optim as optim\n",
    "criterion = nn.CrossEntropyLoss()\n",
    "optimizer = optim.Adam(model.parameters(),lr=0.001)"
   ]
  },
  {
   "cell_type": "code",
<<<<<<< HEAD
   "execution_count": null,
=======
   "execution_count": 14,
>>>>>>> 6a37622d576c346dee34909fdec92db68361b4a0
   "metadata": {},
   "outputs": [
    {
     "name": "stdout",
     "output_type": "stream",
     "text": [
<<<<<<< HEAD
      "[1,  2000] loss: 2.537\n",
      "[1,  4000] loss: 2.303\n",
      "[1,  6000] loss: 2.259\n",
      "[1,  8000] loss: 2.296\n",
      "[1, 10000] loss: 2.273\n",
      "[1, 12000] loss: 2.254\n"
=======
      "[1,  2000] loss: 1.303\n",
      "[1,  4000] loss: 0.603\n",
      "[1,  6000] loss: 0.548\n",
      "[1,  8000] loss: 0.557\n",
      "[1, 10000] loss: 0.515\n",
      "[1, 12000] loss: 0.390\n",
      "[1, 14000] loss: 0.084\n",
      "[2,  2000] loss: 0.067\n",
      "[2,  4000] loss: 0.062\n",
      "[2,  6000] loss: 0.059\n",
      "[2,  8000] loss: 0.053\n",
      "[2, 10000] loss: 0.058\n",
      "[2, 12000] loss: 0.055\n",
      "[2, 14000] loss: 0.058\n",
      "[3,  2000] loss: 0.039\n",
      "[3,  4000] loss: 0.045\n",
      "[3,  6000] loss: 0.051\n",
      "[3,  8000] loss: 0.047\n",
      "[3, 10000] loss: 0.053\n",
      "[3, 12000] loss: 0.044\n",
      "[3, 14000] loss: 0.045\n",
      "[4,  2000] loss: 0.028\n",
      "[4,  4000] loss: 0.036\n",
      "[4,  6000] loss: 0.035\n",
      "[4,  8000] loss: 0.034\n",
      "[4, 10000] loss: 0.034\n",
      "[4, 12000] loss: 0.038\n",
      "[4, 14000] loss: 0.043\n",
      "[5,  2000] loss: 0.026\n",
      "[5,  4000] loss: 0.033\n",
      "[5,  6000] loss: 0.027\n",
      "[5,  8000] loss: 0.035\n",
      "[5, 10000] loss: 0.037\n",
      "[5, 12000] loss: 0.030\n",
      "[5, 14000] loss: 0.029\n"
>>>>>>> 6a37622d576c346dee34909fdec92db68361b4a0
     ]
    }
   ],
   "source": [
    "for epoch in range(5):\n",
    "    running_loss=0.0\n",
    "    for i,data in enumerate(trainloader,0):\n",
    "        inputs,labels = data\n",
    "        inputs=inputs.to(device)\n",
    "        labels=labels.to(device)\n",
    "        optimizer.zero_grad()\n",
    "        output = model(inputs)\n",
    "        loss = criterion(output,labels)\n",
    "        loss.backward()\n",
    "        optimizer.step()\n",
    "        running_loss += loss.item()\n",
    "        if i % 2000 == 1999:    # print every 2000 mini-batches\n",
    "            print('[%d, %5d] loss: %.3f' %\n",
    "                  (epoch + 1, i + 1, running_loss / 2000))\n",
    "            running_loss = 0.0\n",
    "    "
   ]
  },
  {
   "cell_type": "code",
<<<<<<< HEAD
   "execution_count": null,
   "metadata": {},
   "outputs": [],
=======
   "execution_count": 19,
   "metadata": {},
   "outputs": [
    {
     "name": "stdout",
     "output_type": "stream",
     "text": [
      "The accuracy is 98.65 %\n"
     ]
    }
   ],
>>>>>>> 6a37622d576c346dee34909fdec92db68361b4a0
   "source": [
    "classes = {0,1,2,3,4,5,6,7,8,9}\n",
    "correct = 0\n",
    "total = 0\n",
    "for data in testloader:\n",
    "    inputs,labels = data[0].to(device),data[1].to(device)\n",
    "    outputs = model(inputs)\n",
    "    _,predicted = torch.max(outputs.data,1)\n",
    "    total += labels.size(0)\n",
    "    correct += (predicted == labels).sum().item()\n",
    "print(\"The accuracy is %.2f %%\" % (100*correct/total))"
   ]
  },
  {
   "cell_type": "code",
<<<<<<< HEAD
   "execution_count": 21,
=======
   "execution_count": 22,
>>>>>>> 6a37622d576c346dee34909fdec92db68361b4a0
   "metadata": {},
   "outputs": [],
   "source": [
    "PATH = './mnist_net.pth'\n",
    "torch.save(model.state_dict,PATH)"
   ]
  },
  {
   "cell_type": "code",
   "execution_count": null,
   "metadata": {},
   "outputs": [],
   "source": []
  }
 ],
 "metadata": {
  "kernelspec": {
   "display_name": "Python 3",
   "language": "python",
   "name": "python3"
  },
  "language_info": {
   "codemirror_mode": {
    "name": "ipython",
    "version": 3
   },
   "file_extension": ".py",
   "mimetype": "text/x-python",
   "name": "python",
   "nbconvert_exporter": "python",
   "pygments_lexer": "ipython3",
   "version": "3.8.5"
  }
 },
 "nbformat": 4,
 "nbformat_minor": 4
}
